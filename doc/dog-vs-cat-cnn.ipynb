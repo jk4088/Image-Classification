{
 "cells": [
  {
   "cell_type": "code",
   "execution_count": 1,
   "metadata": {},
   "outputs": [
    {
     "name": "stderr",
     "output_type": "stream",
     "text": [
      "/Users/jeromekafrouni/.pyenv/versions/3.6.1/lib/python3.6/site-packages/h5py/__init__.py:36: FutureWarning: Conversion of the second argument of issubdtype from `float` to `np.floating` is deprecated. In future, it will be treated as `np.float64 == np.dtype(float).type`.\n",
      "  from ._conv import register_converters as _register_converters\n"
     ]
    }
   ],
   "source": [
    "import tensorflow as tf\n",
    "import numpy as np\n",
    "# import pandas as pd\n",
    "import glob\n",
    "import matplotlib.pyplot as plt\n",
    "# import seaborn as sns\n",
    "# from resizeimage import resizeimage\n",
    "%matplotlib inline\n",
    "# tf.logging.set_verbosity(tf.logging.INFO)"
   ]
  },
  {
   "cell_type": "code",
   "execution_count": 2,
   "metadata": {},
   "outputs": [
    {
     "name": "stdout",
     "output_type": "stream",
     "text": [
      "README.md  \u001b[0m\u001b[01;31mpets.zip\u001b[0m         \u001b[01;34mpets_neuralnet_original\u001b[0m/     \u001b[01;34mzipcode\u001b[0m/\r\n",
      "\u001b[01;34m__MACOSX\u001b[0m/  \u001b[01;34mpets_neuralnet\u001b[0m/  \u001b[01;31mpets_neuralnet_original.zip\u001b[0m\r\n"
     ]
    }
   ],
   "source": [
    "ls ../data"
   ]
  },
  {
   "cell_type": "markdown",
   "metadata": {},
   "source": [
    "# Neural net v2: using ImageDataGenerator to load and preprocess"
   ]
  },
  {
   "cell_type": "markdown",
   "metadata": {},
   "source": [
    "## Prepare folder for train/test sets, in keras format"
   ]
  },
  {
   "cell_type": "code",
   "execution_count": 4,
   "metadata": {},
   "outputs": [],
   "source": [
    "import os\n",
    "import shutil"
   ]
  },
  {
   "cell_type": "code",
   "execution_count": 5,
   "metadata": {},
   "outputs": [
    {
     "name": "stdout",
     "output_type": "stream",
     "text": [
      "README.md  \u001b[0m\u001b[01;31mpets.zip\u001b[0m         \u001b[01;34mpets_neuralnet_original\u001b[0m/     \u001b[01;34mzipcode\u001b[0m/\r\n",
      "\u001b[01;34m__MACOSX\u001b[0m/  \u001b[01;34mpets_neuralnet\u001b[0m/  \u001b[01;31mpets_neuralnet_original.zip\u001b[0m\r\n"
     ]
    }
   ],
   "source": [
    "ls ../data"
   ]
  },
  {
   "cell_type": "code",
   "execution_count": 8,
   "metadata": {},
   "outputs": [],
   "source": [
    "original_dataset_dir = '../data/pets_neuralnet_original'"
   ]
  },
  {
   "cell_type": "code",
   "execution_count": 6,
   "metadata": {},
   "outputs": [],
   "source": [
    "base_dir = '../data/pets_neuralnet'\n",
    "# os.mkdir(base_dir)\n",
    "\n",
    "train_dir = os.path.join(base_dir, 'train')\n",
    "# os.mkdir(train_dir)\n",
    "\n",
    "validation_dir = os.path.join(base_dir, 'validation')\n",
    "# os.mkdir(validation_dir)\n",
    "\n",
    "train_cats_dir = os.path.join(train_dir, 'cats')\n",
    "# os.mkdir(train_cats_dir)\n",
    "\n",
    "train_dogs_dir = os.path.join(train_dir, 'dogs')\n",
    "# os.mkdir(train_dogs_dir)\n",
    "\n",
    "validation_cats_dir = os.path.join(validation_dir, 'cats')\n",
    "# os.mkdir(validation_cats_dir)\n",
    "\n",
    "validation_dogs_dir = os.path.join(validation_dir, 'dogs')\n",
    "# os.mkdir(validation_dogs_dir)"
   ]
  },
  {
   "cell_type": "code",
   "execution_count": 7,
   "metadata": {},
   "outputs": [],
   "source": [
    "# cats_filenames = [file for file in glob.glob(original_dataset_dir + '/cat/*')]"
   ]
  },
  {
   "cell_type": "code",
   "execution_count": 8,
   "metadata": {},
   "outputs": [],
   "source": [
    "# dogs_filenames = [file for file in glob.glob(original_dataset_dir + '/dog/*')]"
   ]
  },
  {
   "cell_type": "code",
   "execution_count": 9,
   "metadata": {},
   "outputs": [],
   "source": [
    "# for fname in cats_filenames[:521]: # 80 % split\n",
    "#     name = fname.split('/')[-1]\n",
    "#     shutil.copyfile(fname, os.path.join(train_cats_dir, name))\n",
    "    \n",
    "# for fname in cats_filenames[521:]: # 80 % split\n",
    "#     name = fname.split('/')[-1]\n",
    "#     shutil.copyfile(fname, os.path.join(validation_cats_dir, name))\n",
    "    \n",
    "# for fname in dogs_filenames[:1078]: # 80 % split\n",
    "#     name = fname.split('/')[-1]\n",
    "#     shutil.copyfile(fname, os.path.join(train_dogs_dir, name))\n",
    "    \n",
    "# for fname in dogs_filenames[1078:]: # 80 % split\n",
    "#     name = fname.split('/')[-1]\n",
    "#     shutil.copyfile(fname, os.path.join(validation_dogs_dir, name))"
   ]
  },
  {
   "cell_type": "code",
   "execution_count": 10,
   "metadata": {},
   "outputs": [],
   "source": [
    "# from shutil import copyfile\n",
    "# !mkdir ../data/pets_neuralnet\n",
    "# !mkdir ../data/pets_neuralnet/cat\n",
    "# !mkdir ../data/pets_neuralnet/dog"
   ]
  },
  {
   "cell_type": "code",
   "execution_count": 11,
   "metadata": {},
   "outputs": [],
   "source": [
    "# train_datagen = tf.keras.preprocessing.image.ImageDataGenerator(rescale=1./255)\n",
    "eval_datagen = tf.keras.preprocessing.image.ImageDataGenerator(rescale=1./255)"
   ]
  },
  {
   "cell_type": "code",
   "execution_count": 12,
   "metadata": {},
   "outputs": [],
   "source": [
    "train_datagen = tf.keras.preprocessing.image.ImageDataGenerator(\n",
    "                    rescale=1./255,\n",
    "                    rotation_range=40,\n",
    "                    width_shift_range=0.2,\n",
    "                    height_shift_range=0.2,\n",
    "                    shear_range=0.2,\n",
    "                    zoom_range=0.2,\n",
    "                    horizontal_flip=True,)"
   ]
  },
  {
   "cell_type": "code",
   "execution_count": 13,
   "metadata": {},
   "outputs": [
    {
     "name": "stdout",
     "output_type": "stream",
     "text": [
      "Found 1599 images belonging to 2 classes.\n"
     ]
    }
   ],
   "source": [
    "train_generator = train_datagen.flow_from_directory(\n",
    "        train_dir,\n",
    "        target_size=(64, 64),\n",
    "        batch_size=128,\n",
    "        class_mode='binary')"
   ]
  },
  {
   "cell_type": "code",
   "execution_count": 14,
   "metadata": {},
   "outputs": [
    {
     "name": "stdout",
     "output_type": "stream",
     "text": [
      "Found 401 images belonging to 2 classes.\n"
     ]
    }
   ],
   "source": [
    "eval_generator = eval_datagen.flow_from_directory(\n",
    "        validation_dir,\n",
    "        target_size=(64, 64),\n",
    "        batch_size=32,\n",
    "        class_mode='binary')"
   ]
  },
  {
   "cell_type": "markdown",
   "metadata": {},
   "source": [
    "Visualize the data augmentation:"
   ]
  },
  {
   "cell_type": "code",
   "execution_count": null,
   "metadata": {},
   "outputs": [],
   "source": [
    "itr = 0\n",
    "for data_batch, labels_batch in train_generator:\n",
    "    itr += 1\n",
    "    plt.imshow(data_batch[0])\n",
    "    plt.show()\n",
    "    if itr > 5:\n",
    "        break"
   ]
  },
  {
   "cell_type": "markdown",
   "metadata": {},
   "source": [
    "Define model:"
   ]
  },
  {
   "cell_type": "markdown",
   "metadata": {},
   "source": [
    "We use a classic CNN architecture with 3 convolution layers and one dense layer. There is one dropout layer before the dense layer to avoid overfitting. The activation used is simply \"relu\", leakyrelu might lead to better results but is not available in Keras."
   ]
  },
  {
   "cell_type": "code",
   "execution_count": 29,
   "metadata": {},
   "outputs": [],
   "source": [
    "layers = tf.keras.layers\n",
    "models = tf.keras.models\n",
    "\n",
    "model = models.Sequential()\n",
    "# model.add(layers.Reshape((113, 113, 3), input_shape=(38307,)))\n",
    "model.add(layers.Conv2D(32, (3, 3), activation='relu',\n",
    "                        input_shape=(64, 64, 3)))\n",
    "model.add(layers.MaxPooling2D((2, 2)))\n",
    "\n",
    "model.add(layers.Conv2D(64, (3, 3), activation='relu'))\n",
    "model.add(layers.MaxPooling2D((2, 2)))\n",
    "\n",
    "model.add(layers.Conv2D(128, (3, 3), activation='relu'))\n",
    "model.add(layers.MaxPooling2D((2, 2)))\n",
    "\n",
    "model.add(layers.Conv2D(256, (3, 3), activation='relu'))\n",
    "model.add(layers.MaxPooling2D((2, 2)))\n",
    "\n",
    "model.add(layers.Flatten())\n",
    "model.add(layers.Dropout(0.5)) # this is the \"keep prob\"\n",
    "model.add(layers.Dense(512, activation='relu'))\n",
    "model.add(layers.Dense(1, activation='sigmoid'))"
   ]
  },
  {
   "cell_type": "markdown",
   "metadata": {},
   "source": [
    "Adam and RMSProp give good results and converge quite fast."
   ]
  },
  {
   "cell_type": "code",
   "execution_count": 30,
   "metadata": {},
   "outputs": [],
   "source": [
    "model.compile(optimizer=tf.keras.optimizers.Adam(),\n",
    "              loss='binary_crossentropy',\n",
    "              metrics=['accuracy'])"
   ]
  },
  {
   "cell_type": "code",
   "execution_count": 56,
   "metadata": {},
   "outputs": [],
   "source": [
    "# model.fit(X_train, y_train, batch_size=128, epochs=10)"
   ]
  },
  {
   "cell_type": "code",
   "execution_count": 31,
   "metadata": {},
   "outputs": [
    {
     "name": "stdout",
     "output_type": "stream",
     "text": [
      "Epoch 1/20\n",
      "100/100 [==============================]100/100 [==============================] - 74s 736ms/step - loss: 0.6091 - acc: 0.6777 - val_loss: 0.5653 - val_acc: 0.6791\n",
      "\n",
      "Epoch 2/20\n",
      "100/100 [==============================]100/100 [==============================] - 73s 728ms/step - loss: 0.5822 - acc: 0.6969 - val_loss: 0.5571 - val_acc: 0.6772\n",
      "\n",
      "Epoch 3/20\n",
      "100/100 [==============================]100/100 [==============================] - 73s 726ms/step - loss: 0.5490 - acc: 0.7216 - val_loss: 0.5203 - val_acc: 0.7338\n",
      "\n",
      "Epoch 4/20\n",
      "100/100 [==============================]100/100 [==============================] - 66s 663ms/step - loss: 0.5280 - acc: 0.7335 - val_loss: 0.4701 - val_acc: 0.7749\n",
      "\n",
      "Epoch 5/20\n",
      "100/100 [==============================]100/100 [==============================] - 73s 728ms/step - loss: 0.4852 - acc: 0.7632 - val_loss: 0.5650 - val_acc: 0.7344\n",
      "\n",
      "Epoch 6/20\n",
      "100/100 [==============================]100/100 [==============================] - 73s 733ms/step - loss: 0.4644 - acc: 0.7808 - val_loss: 0.4578 - val_acc: 0.7839\n",
      "\n",
      "Epoch 7/20\n",
      "100/100 [==============================]100/100 [==============================] - 67s 667ms/step - loss: 0.4510 - acc: 0.7890 - val_loss: 0.4135 - val_acc: 0.7859\n",
      "\n",
      "Epoch 8/20\n",
      "100/100 [==============================]100/100 [==============================] - 73s 730ms/step - loss: 0.4008 - acc: 0.8189 - val_loss: 0.4274 - val_acc: 0.7923\n",
      "\n",
      "Epoch 9/20\n",
      "100/100 [==============================]100/100 [==============================] - 71s 715ms/step - loss: 0.3788 - acc: 0.8323 - val_loss: 0.3589 - val_acc: 0.8495\n",
      "\n",
      "Epoch 10/20\n",
      "100/100 [==============================]100/100 [==============================] - 65s 648ms/step - loss: 0.3587 - acc: 0.8440 - val_loss: 0.3764 - val_acc: 0.8315\n",
      "\n",
      "Epoch 11/20\n",
      "100/100 [==============================]100/100 [==============================] - 71s 715ms/step - loss: 0.3438 - acc: 0.8500 - val_loss: 0.3294 - val_acc: 0.8534\n",
      "\n",
      "Epoch 12/20\n",
      "100/100 [==============================]100/100 [==============================] - 71s 712ms/step - loss: 0.3324 - acc: 0.8563 - val_loss: 0.4142 - val_acc: 0.8096\n",
      "\n",
      "Epoch 13/20\n",
      "100/100 [==============================]100/100 [==============================] - 69s 686ms/step - loss: 0.3270 - acc: 0.8566 - val_loss: 0.3453 - val_acc: 0.8450\n",
      "\n",
      "Epoch 14/20\n",
      "100/100 [==============================]100/100 [==============================] - 65s 652ms/step - loss: 0.2978 - acc: 0.8721 - val_loss: 0.3650 - val_acc: 0.8463\n",
      "\n",
      "Epoch 15/20\n",
      "100/100 [==============================]100/100 [==============================] - 72s 725ms/step - loss: 0.2996 - acc: 0.8741 - val_loss: 0.3658 - val_acc: 0.8367\n",
      "\n",
      "Epoch 16/20\n",
      "100/100 [==============================]100/100 [==============================] - 70s 701ms/step - loss: 0.2771 - acc: 0.8822 - val_loss: 0.3829 - val_acc: 0.8489\n",
      "\n",
      "Epoch 17/20\n",
      "100/100 [==============================]100/100 [==============================] - 64s 643ms/step - loss: 0.2728 - acc: 0.8843 - val_loss: 0.3968 - val_acc: 0.8347\n",
      "\n",
      "Epoch 18/20\n",
      "100/100 [==============================]100/100 [==============================] - 72s 724ms/step - loss: 0.2567 - acc: 0.8935 - val_loss: 0.3453 - val_acc: 0.8521\n",
      "\n",
      "Epoch 19/20\n",
      "100/100 [==============================]100/100 [==============================] - 71s 706ms/step - loss: 0.2497 - acc: 0.8969 - val_loss: 0.3256 - val_acc: 0.8701\n",
      "\n",
      "Epoch 20/20\n",
      "100/100 [==============================]100/100 [==============================] - 66s 662ms/step - loss: 0.2239 - acc: 0.9089 - val_loss: 0.3517 - val_acc: 0.8534\n",
      "\n"
     ]
    }
   ],
   "source": [
    "history = model.fit_generator(\n",
    "      train_generator,\n",
    "      steps_per_epoch=100,\n",
    "      epochs=20,\n",
    "      validation_data=eval_generator,\n",
    "      validation_steps=50)"
   ]
  },
  {
   "cell_type": "markdown",
   "metadata": {},
   "source": [
    "Results:\n",
    "- 75 % val acc without augmentation (got to 75 % then lower because of overfitting)\n",
    "- around 89% with data augmentation and images of size 150x150\n",
    "- around 86% with data augmentation and images of size 64x64 with less epochs"
   ]
  },
  {
   "cell_type": "markdown",
   "metadata": {},
   "source": [
    "## Visualize results"
   ]
  },
  {
   "cell_type": "code",
   "execution_count": 32,
   "metadata": {},
   "outputs": [
    {
     "data": {
      "image/png": "[encoded data removed]",
      "text/plain": [
       "<matplotlib.figure.Figure at 0x7f534e0bd0f0>"
      ]
     },
     "metadata": {},
     "output_type": "display_data"
    },
    {
     "data": {
      "image/png": "[encoded data removed]",
      "text/plain": [
       "<matplotlib.figure.Figure at 0x7f534e0e1940>"
      ]
     },
     "metadata": {},
     "output_type": "display_data"
    }
   ],
   "source": [
    "acc = history.history['acc']\n",
    "val_acc = history.history['val_acc']\n",
    "loss = history.history['loss']\n",
    "val_loss = history.history['val_loss']\n",
    "epochs = range(1, len(acc) + 1)\n",
    "\n",
    "plt.plot(epochs, acc, 'bo', label='Training acc')\n",
    "plt.plot(epochs, val_acc, 'b', label='Validation acc')\n",
    "plt.title('Training and validation accuracy')\n",
    "plt.legend()\n",
    "plt.figure()\n",
    "plt.plot(epochs, loss, 'bo', label='Training loss')\n",
    "plt.plot(epochs, val_loss, 'b', label='Validation loss')\n",
    "plt.title('Training and validation loss')\n",
    "plt.legend()\n",
    "plt.show()"
   ]
  },
  {
   "cell_type": "markdown",
   "metadata": {},
   "source": [
    "## Refinement: dealing with class imbalance"
   ]
  },
  {
   "cell_type": "markdown",
   "metadata": {},
   "source": [
    "Our training data is imbalanced, therefore we can tune Keras to add weights to each class. Since we have 2.08 more cat samples than dog sample, in the fit function we need to assign a weight of 2.08 to cat samples. This is simply done by passing the weights to fit_generator:"
   ]
  },
  {
   "cell_type": "markdown",
   "metadata": {},
   "source": [
    "## Train model and save it"
   ]
  },
  {
   "cell_type": "markdown",
   "metadata": {},
   "source": [
    "We can notice that the model overfits after around 12 epochs. Therefore we train again the same model but this time stopping at 12 epochs. (uncomment the following two cells)."
   ]
  },
  {
   "cell_type": "code",
   "execution_count": 2,
   "metadata": {},
   "outputs": [],
   "source": [
    "# model.compile(optimizer=tf.keras.optimizers.Adam(),\n",
    "#               loss='binary_crossentropy',\n",
    "#               metrics=['accuracy'])"
   ]
  },
  {
   "cell_type": "code",
   "execution_count": 3,
   "metadata": {},
   "outputs": [],
   "source": [
    "# history = model.fit_generator(\n",
    "#       train_generator,\n",
    "#       steps_per_epoch=100,\n",
    "#       epochs=20,\n",
    "#       validation_data=eval_generator,\n",
    "#       validation_steps=50,\n",
    "#       class_weight={0: 2.08, 1: 1.0})"
   ]
  },
  {
   "cell_type": "markdown",
   "metadata": {},
   "source": [
    "We get a similar plot as the one above, except this time even though the accuracy seems to be the same, the precision and recall are way better on both classes, in other terms the neural net does as well on dogs as on cats."
   ]
  },
  {
   "cell_type": "code",
   "execution_count": 2,
   "metadata": {},
   "outputs": [],
   "source": [
    "import h5py"
   ]
  },
  {
   "cell_type": "code",
   "execution_count": 34,
   "metadata": {},
   "outputs": [],
   "source": [
    "model.save('../cats_and_dogs_v2.h5')"
   ]
  },
  {
   "cell_type": "markdown",
   "metadata": {},
   "source": [
    "### Load trained model"
   ]
  },
  {
   "cell_type": "markdown",
   "metadata": {},
   "source": [
    "**Important note**: the code above has been ran on a gcloud instance with GPU, which speeds up exponentially the training. To only reproduce the prediction part, you can load the already trained model which is in a .h5 file in the output/ folder:"
   ]
  },
  {
   "cell_type": "code",
   "execution_count": 4,
   "metadata": {},
   "outputs": [
    {
     "name": "stdout",
     "output_type": "stream",
     "text": [
      "WARNING:tensorflow:From /Users/jeromekafrouni/.pyenv/versions/3.6.1/Python.framework/Versions/3.6/lib/python3.6/site-packages/tensorflow/python/keras/_impl/keras/backend.py:1557: calling reduce_mean (from tensorflow.python.ops.math_ops) with keep_dims is deprecated and will be removed in a future version.\n",
      "Instructions for updating:\n",
      "keep_dims is deprecated, use keepdims instead\n"
     ]
    }
   ],
   "source": [
    "model = tf.keras.models.load_model(\"../output/cats_and_dogs_v3.h5\")"
   ]
  },
  {
   "cell_type": "markdown",
   "metadata": {},
   "source": [
    "The test folder needs to contain the images **in a subfolder**, due to keras way to dealing with input data."
   ]
  },
  {
   "cell_type": "code",
   "execution_count": 5,
   "metadata": {},
   "outputs": [],
   "source": [
    "test_dir = \"../test_practice\""
   ]
  },
  {
   "cell_type": "code",
   "execution_count": 6,
   "metadata": {},
   "outputs": [],
   "source": [
    "test_datagen = tf.keras.preprocessing.image.ImageDataGenerator(rescale=1./255)"
   ]
  },
  {
   "cell_type": "code",
   "execution_count": 7,
   "metadata": {
    "scrolled": true
   },
   "outputs": [
    {
     "name": "stdout",
     "output_type": "stream",
     "text": [
      "Found 1860 images belonging to 1 classes.\n"
     ]
    }
   ],
   "source": [
    "test_generator = test_datagen.flow_from_directory(\n",
    "        test_dir,\n",
    "        target_size=(64, 64),\n",
    "        batch_size=16,\n",
    "        class_mode=None,  # only data, no labels\n",
    "        shuffle=False)  # keep data in same order as labels"
   ]
  },
  {
   "cell_type": "code",
   "execution_count": 8,
   "metadata": {},
   "outputs": [],
   "source": [
    "predictions = model.predict_generator(test_generator)"
   ]
  },
  {
   "cell_type": "markdown",
   "metadata": {},
   "source": [
    "The list above is a list of probabilities that we convert into actual predictions:"
   ]
  },
  {
   "cell_type": "code",
   "execution_count": 9,
   "metadata": {},
   "outputs": [],
   "source": [
    "predictions = [0 if pr < 0.5 else 1 for pr in predictions]"
   ]
  },
  {
   "cell_type": "markdown",
   "metadata": {},
   "source": [
    "**We save the predictions in a file:**"
   ]
  },
  {
   "cell_type": "markdown",
   "metadata": {},
   "source": [
    "Keras learned classes as 0=\"cat\" and 1=\"dog\"."
   ]
  },
  {
   "cell_type": "code",
   "execution_count": 10,
   "metadata": {},
   "outputs": [],
   "source": [
    "with open(\"../output/predictions.txt\",\"w\") as file: \n",
    "    for predicted_class in predictions:\n",
    "        if predicted_class == 0:\n",
    "            file.write(\"cat\\n\")\n",
    "        else:\n",
    "            file.write(\"dog\\n\")"
   ]
  }
 ],
 "metadata": {
  "kernelspec": {
   "display_name": "Python 3",
   "language": "python",
   "name": "python3"
  },
  "language_info": {
   "codemirror_mode": {
    "name": "ipython",
    "version": 3
   },
   "file_extension": ".py",
   "mimetype": "text/x-python",
   "name": "python",
   "nbconvert_exporter": "python",
   "pygments_lexer": "ipython3",
   "version": "3.6.1"
  }
 },
 "nbformat": 4,
 "nbformat_minor": 2
}
